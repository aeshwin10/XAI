{
  "nbformat": 4,
  "nbformat_minor": 0,
  "metadata": {
    "colab": {
      "provenance": [],
      "authorship_tag": "ABX9TyMDTAFr0nSe0MBrBzEHahMR",
      "include_colab_link": true
    },
    "kernelspec": {
      "name": "python3",
      "display_name": "Python 3"
    },
    "language_info": {
      "name": "python"
    }
  },
  "cells": [
    {
      "cell_type": "markdown",
      "metadata": {
        "id": "view-in-github",
        "colab_type": "text"
      },
      "source": [
        "<a href=\"https://colab.research.google.com/github/aeshwin10/XAI/blob/main/XAI_LRP.ipynb\" target=\"_parent\"><img src=\"https://colab.research.google.com/assets/colab-badge.svg\" alt=\"Open In Colab\"/></a>"
      ]
    },
    {
      "cell_type": "markdown",
      "source": [
        "Building a LayerWise Relevance Model for Underwater fish monitoring"
      ],
      "metadata": {
        "id": "szo1Jk1p7t3t"
      }
    },
    {
      "cell_type": "code",
      "execution_count": 1,
      "metadata": {
        "id": "La8WFyV35ynt"
      },
      "outputs": [],
      "source": [
        "import numpy as np"
      ]
    },
    {
      "cell_type": "code",
      "source": [
        "def forward_pass(x, weights, biases):\n",
        "    \"\"\"\n",
        "    Perform a forward pass through the network.\n",
        "    \"\"\"\n",
        "    activations = [x]\n",
        "    pre_activations = []\n",
        "    for w, b in zip(weights, biases):\n",
        "        z = np.dot(w, activations[-1]) + b\n",
        "        pre_activations.append(z)\n",
        "        activations.append(np.maximum(0, z))  # ReLU activation\n",
        "    return activations, pre_activations"
      ],
      "metadata": {
        "id": "sr7MvMtc7tQq"
      },
      "execution_count": null,
      "outputs": []
    },
    {
      "cell_type": "code",
      "source": [
        "def backward_pass(activations, pre_activations, weights, biases):\n",
        "    \"\"\"\n",
        "    Perform a backward pass using LRP.\n",
        "    \"\"\"\n",
        "    relevances = [activations[-1]]\n",
        "    for i in reversed(range(len(weights))):\n",
        "        w = weights[i]\n",
        "        b = biases[i]\n",
        "        z = pre_activations[i]\n",
        "        s = relevances[-1] / (z + 1e-9)  # Avoid division by zero\n",
        "        c = np.dot(w.T, s)\n",
        "        relevances.append(activations[i] * c)\n",
        "    return relevances[::-1]"
      ],
      "metadata": {
        "id": "aAP9-JXk72fB"
      },
      "execution_count": null,
      "outputs": []
    },
    {
      "cell_type": "code",
      "source": [
        "# Assume we have some trained weights and biases\n",
        "weights = [...]\n",
        "biases = [...]\n",
        "\n",
        "# And some input data\n",
        "x = ...\n",
        "\n",
        "# Compute the activations and pre-activations\n",
        "activations, pre_activations = forward_pass(x, weights, biases)\n",
        "\n",
        "# Compute the relevance scores\n",
        "relevances = backward_pass(activations, pre_activations, weights, biases)\n",
        "\n",
        "# The relevance of the input features is now stored in relevances[0]"
      ],
      "metadata": {
        "id": "_gBn4bH-76KS"
      },
      "execution_count": null,
      "outputs": []
    }
  ]
}